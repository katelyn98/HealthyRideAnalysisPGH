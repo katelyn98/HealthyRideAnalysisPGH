{
 "cells": [
  {
   "cell_type": "markdown",
   "metadata": {},
   "source": [
    "# Data Prepartion/Cleaning"
   ]
  },
  {
   "cell_type": "code",
   "execution_count": null,
   "metadata": {},
   "outputs": [],
   "source": [
    "from pathlib import Path\n",
    "import numpy as np\n",
    "import pandas as pd\n",
    "from pprint import pprint\n",
    "import plotly.graph_objects as go\n",
    "import networkx as nx"
   ]
  },
  {
   "cell_type": "markdown",
   "metadata": {},
   "source": [
    "### Loading in file"
   ]
  },
  {
   "cell_type": "code",
   "execution_count": null,
   "metadata": {},
   "outputs": [],
   "source": [
    "data_path = Path('.') / 'data'\n",
    "data_files = list(data_path.glob(\"*.xlsx\"))\n",
    "\n",
    "file = data_files[0]\n",
    "#df = dataframe\n",
    "df = pd.read_excel(str(file))\n",
    "df"
   ]
  },
  {
   "cell_type": "markdown",
   "metadata": {},
   "source": [
    "### Cleaning the Data"
   ]
  },
  {
   "cell_type": "code",
   "execution_count": null,
   "metadata": {},
   "outputs": [],
   "source": [
    "#{} will mean dictionary usually ~ {key:value}\n",
    "#{} could mean a set ~ {'value', 'value2', 'value3'}\n",
    "columns_rename = {}\n",
    "for col in list(df.columns):\n",
    "    renamed_column = col.lower().replace(' ', '_')\n",
    "    columns_rename[col] = renamed_column\n",
    "# del columns_rename['Usertype']\n",
    "columns_rename"
   ]
  },
  {
   "cell_type": "code",
   "execution_count": null,
   "metadata": {},
   "outputs": [],
   "source": [
    "#use ?df.rename to figure out the paremeters for the function\n",
    "new_df = df.rename(columns=columns_rename)\n",
    "new_df"
   ]
  },
  {
   "cell_type": "code",
   "execution_count": null,
   "metadata": {},
   "outputs": [],
   "source": [
    "df_filtered = new_df[new_df.from_station_id.notnull()]\n",
    "df_filtered = df_filtered[new_df.to_station_id.notnull()]\n",
    "df_filtered"
   ]
  },
  {
   "cell_type": "markdown",
   "metadata": {},
   "source": [
    "### Save the Data"
   ]
  },
  {
   "cell_type": "code",
   "execution_count": null,
   "metadata": {},
   "outputs": [],
   "source": [
    "#output is a Path object\n",
    "output = Path('.') / 'output'\n",
    "\n",
    "#Checking if the output is already a directory\n",
    "if(not output.is_dir()):\n",
    "    #To make the path object a directory, do path_object.mkdir()\n",
    "    output.mkdir()   "
   ]
  },
  {
   "cell_type": "code",
   "execution_count": null,
   "metadata": {},
   "outputs": [],
   "source": [
    "file = output / 'cleanedHealthyRideData.csv'\n",
    "df_filtered.to_csv(str(file))"
   ]
  },
  {
   "cell_type": "markdown",
   "metadata": {},
   "source": [
    "### Create the Graph"
   ]
  },
  {
   "cell_type": "code",
   "execution_count": null,
   "metadata": {},
   "outputs": [],
   "source": []
  }
 ],
 "metadata": {
  "kernelspec": {
   "display_name": "Python 3",
   "language": "python",
   "name": "python3"
  },
  "language_info": {
   "codemirror_mode": {
    "name": "ipython",
    "version": 3
   },
   "file_extension": ".py",
   "mimetype": "text/x-python",
   "name": "python",
   "nbconvert_exporter": "python",
   "pygments_lexer": "ipython3",
   "version": "3.6.6"
  }
 },
 "nbformat": 4,
 "nbformat_minor": 4
}
